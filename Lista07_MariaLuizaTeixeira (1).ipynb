{
 "cells": [
  {
   "cell_type": "markdown",
   "metadata": {},
   "source": [
    "<div class=\"alert alert-block bg-primary\">\n",
    "<center>MÉTODOS NUMÉRICOS</center>\n",
    "<center>LISTA 07</center>\n",
    "<center>ALUNA: MARIA LUÍZA TEIXEIRA NASCIMENTO</center>\n",
    "</div>"
   ]
  },
  {
   "cell_type": "code",
   "execution_count": 1,
   "metadata": {},
   "outputs": [],
   "source": [
    "import pandas as pd\n",
    "import numpy as np\n",
    "import scipy.linalg as sla"
   ]
  },
  {
   "cell_type": "markdown",
   "metadata": {},
   "source": [
    "<div class=\"alert alert-block alert-info\">\n",
    "<center><strong>Exercício 1:</strong> \n",
    "    <p>Implemente uma função que use eliminação gaussiana com pivotamento parcial para encontrar o vetor solução de um sistema de equações lineares.</p>\n",
    "    <p>Essa função terá de contemplar as duas etapas do processo: a eliminação, cujo algoritmo é discutido no notebook das aulas da semana, e que terá como saída a matriz escalonada e a substituição retroativa, que encontrará a solução do sistema triangular superior obtido do escalonamento, e cuja implementação já foi feita por vocês em exercício anterior.</p>\n",
    "    <p>Para testar e verificar se a função de vocês está corretamente implementada, compare os resultados\n",
    "    com a função solve da biblioteca Scipy, cujo uso também foi discutido no notebook, para os seguintes\n",
    "    exemplos de sistemas:</p>\n",
    "    </center>\n",
    "</div>"
   ]
  },
  {
   "cell_type": "code",
   "execution_count": 2,
   "metadata": {},
   "outputs": [],
   "source": [
    "#Função Triangular Superior: \n",
    "def sist_lin_tri_sup(M_coeficientes, Termos_ind):\n",
    "  n = len(Termos_ind)\n",
    "  x = np.empty(n)\n",
    "  x[-1] = Termos_ind[-1]/M_coeficientes[-1, -1]\n",
    "  for i in range(n-2, -1, -1):\n",
    "    x[i] = (Termos_ind[i] - np.sum(M_coeficientes[i, i+1:] * x[i+1:]))/M_coeficientes[i,i]\n",
    "  return x"
   ]
  },
  {
   "cell_type": "code",
   "execution_count": 3,
   "metadata": {},
   "outputs": [],
   "source": [
    "#Função pivôteamento parcial:\n",
    "def PivotamentoParcial(A_b, i):\n",
    "  pivoMax = np.abs(A_b[i:,i]).argmax() + i\n",
    "  A_b[[pivoMax, i]] = A_b[[i, pivoMax]]\n",
    "  return A_b"
   ]
  },
  {
   "cell_type": "code",
   "execution_count": 4,
   "metadata": {},
   "outputs": [],
   "source": [
    "#Função Eliminação Simples:\n",
    "def EliminacaoSimples(M_coeficientes, Termos_ind):\n",
    "  A_b = np.c_[M_coeficientes, Termos_ind]\n",
    "  for i in range(len(M_coeficientes) - 1):\n",
    "    for j in range(i + 1, len(M_coeficientes)):\n",
    "      A_b[j] = A_b[j] - (A_b[i, j] / A_b[i, i]) * A_b[i]\n",
    "  return A_b[:, : -1], A_b[:, -1]"
   ]
  },
  {
   "cell_type": "code",
   "execution_count": 5,
   "metadata": {},
   "outputs": [],
   "source": [
    "#Função Eliminação com Pivoteamento:\n",
    "def EliminacaoPivotamento(M_coeficientes, Termos_ind) :\n",
    "    A_b = np.c_[M_coeficientes, Termos_ind]\n",
    "    for i in range(len(M_coeficientes) - 1) :\n",
    "        A_b = PivotamentoParcial(A_b, i)\n",
    "        for j in range(i + 1, len(M_coeficientes)) :\n",
    "            A_b[j] = A_b[j] - (A_b[j, i] / A_b[i, i]) * A_b[i]\n",
    "    return A_b[:, : -1], A_b[:, -1]"
   ]
  },
  {
   "cell_type": "markdown",
   "metadata": {},
   "source": [
    "<div class=\"alert alert-block alert-info\">\n",
    "<strong>Letra A</strong><br>\n",
    "<p>$1x_1 + 1x_2 + 1x_3 = 1$</p>\n",
    "<p>$4x_1 + 4x_2 + 2x_3 = 2$</p>\n",
    "<p>$2x_1 + x_2 - x_3 = 0$</p>\n",
    "</div>"
   ]
  },
  {
   "cell_type": "code",
   "execution_count": 6,
   "metadata": {},
   "outputs": [],
   "source": [
    "A = np.array([[1, 1, 1], [4, 4, 2], [2, 1, -1]])\n",
    "B = np.array([1, 2, 0])"
   ]
  },
  {
   "cell_type": "code",
   "execution_count": 7,
   "metadata": {},
   "outputs": [
    {
     "name": "stdout",
     "output_type": "stream",
     "text": [
      "(array([[ 1,  1,  1],\n",
      "       [ 3,  3,  1],\n",
      "       [ 0, -1, -2]]), array([ 1,  1, -1]))\n"
     ]
    }
   ],
   "source": [
    "print(EliminacaoSimples(A, B))\n",
    "_A, _B = EliminacaoSimples(A, B)"
   ]
  },
  {
   "cell_type": "code",
   "execution_count": 8,
   "metadata": {},
   "outputs": [
    {
     "name": "stdout",
     "output_type": "stream",
     "text": [
      "[0.33333333 0.16666667 0.5       ]\n"
     ]
    }
   ],
   "source": [
    "print(sist_lin_tri_sup(_A, _B))"
   ]
  },
  {
   "cell_type": "code",
   "execution_count": 9,
   "metadata": {},
   "outputs": [
    {
     "name": "stdout",
     "output_type": "stream",
     "text": [
      "[ 1. -1.  1.]\n"
     ]
    }
   ],
   "source": [
    "print(sla.solve(A, B))"
   ]
  },
  {
   "cell_type": "markdown",
   "metadata": {},
   "source": [
    "<div class=\"alert alert-block alert-info\">\n",
    "<strong>Letra B</strong><br>\n",
    "<p>$7x_1 - 7x_2 + 1x_3 = 1$</p>\n",
    "<p>$-3x_1 + 3x_2 + 2x_3 = 2$</p>\n",
    "<p>$7x_1 + 7x_2 - 72x_3 = 7$</p>\n",
    "</div>"
   ]
  },
  {
   "cell_type": "code",
   "execution_count": 10,
   "metadata": {},
   "outputs": [],
   "source": [
    "C = np.array([[7, -7, 1], [-3, 3, 2], [7, 7, -72]])\n",
    "D = np.array([1, 2, 7])"
   ]
  },
  {
   "cell_type": "code",
   "execution_count": 11,
   "metadata": {},
   "outputs": [
    {
     "name": "stdout",
     "output_type": "stream",
     "text": [
      "(array([[  7,  -7,   1],\n",
      "       [  4,  -4,   3],\n",
      "       [  9,   5, -69]]), array([1, 3, 8]))\n"
     ]
    }
   ],
   "source": [
    "print(EliminacaoSimples(C, D))\n",
    "_C, _D = EliminacaoSimples(C, D)"
   ]
  },
  {
   "cell_type": "code",
   "execution_count": 12,
   "metadata": {},
   "outputs": [
    {
     "name": "stdout",
     "output_type": "stream",
     "text": [
      "[-0.67753623 -0.83695652 -0.11594203]\n"
     ]
    }
   ],
   "source": [
    "print(sist_lin_tri_sup(_C, _D))"
   ]
  },
  {
   "cell_type": "code",
   "execution_count": 13,
   "metadata": {},
   "outputs": [
    {
     "name": "stdout",
     "output_type": "stream",
     "text": [
      "[5.64285714 5.64285714 1.        ]\n"
     ]
    }
   ],
   "source": [
    "print(sla.solve(C, D))"
   ]
  },
  {
   "cell_type": "markdown",
   "metadata": {},
   "source": [
    "<div class=\"alert alert-block alert-info\">\n",
    "<strong>Letra C</strong><br>\n",
    "<p>$1x_1 + 2x_2 + 3x_3 + 4X_4 = 20$</p>\n",
    "<p>$2x_1 + 2x_2 + 3x_3 + 4X_4 = 22$</p>\n",
    "<p>$3x_1 + 3x_2 + 3x_3 + 4X_4 = 22$</p>\n",
    "<p>$4x_1 + 4x_2 + 4x_3 + 4X_4 = 24$</p>\n",
    "</div>"
   ]
  },
  {
   "cell_type": "code",
   "execution_count": 14,
   "metadata": {},
   "outputs": [],
   "source": [
    "E = np.array([[1, 2, 3, 4], [2, 2, 3, 4], [3, 3, 3, 4], [4, 4, 4, 4]])\n",
    "F = np.array([20, 22, 22, 24])"
   ]
  },
  {
   "cell_type": "code",
   "execution_count": 15,
   "metadata": {},
   "outputs": [
    {
     "name": "stdout",
     "output_type": "stream",
     "text": [
      "(array([[ 1,  2,  3,  4],\n",
      "       [ 0, -2, -3, -4],\n",
      "       [ 0,  0, -1, -2],\n",
      "       [ 0,  0,  0,  0]]), array([ 20, -18, -11,   2]))\n"
     ]
    }
   ],
   "source": [
    "print(EliminacaoSimples(E, F))\n",
    "_E, _F = EliminacaoSimples(E, F)"
   ]
  },
  {
   "cell_type": "code",
   "execution_count": 16,
   "metadata": {},
   "outputs": [
    {
     "name": "stdout",
     "output_type": "stream",
     "text": [
      "[ nan  nan -inf  inf]\n"
     ]
    },
    {
     "name": "stderr",
     "output_type": "stream",
     "text": [
      "C:\\Users\\Patrícia Nascimento\\Anaconda3\\lib\\site-packages\\ipykernel_launcher.py:5: RuntimeWarning: divide by zero encountered in long_scalars\n",
      "  \"\"\"\n",
      "C:\\Users\\Patrícia Nascimento\\Anaconda3\\lib\\site-packages\\numpy\\core\\fromnumeric.py:86: RuntimeWarning: invalid value encountered in reduce\n",
      "  return ufunc.reduce(obj, axis, dtype, out, **passkwargs)\n"
     ]
    }
   ],
   "source": [
    "print(sist_lin_tri_sup(_E, _F))"
   ]
  },
  {
   "cell_type": "code",
   "execution_count": 17,
   "metadata": {},
   "outputs": [
    {
     "name": "stdout",
     "output_type": "stream",
     "text": [
      "[ 2. -2.  2.  4.]\n"
     ]
    }
   ],
   "source": [
    "print(sla.solve(E, F))"
   ]
  },
  {
   "cell_type": "markdown",
   "metadata": {},
   "source": [
    "<div class=\"alert alert-block alert-light\">\n",
    "    <center><strong>Explicações não  são necessárias, pois o métdodo está bem auto explicativo</strong></center>\n",
    "</div>"
   ]
  }
 ],
 "metadata": {
  "kernelspec": {
   "display_name": "Python 3",
   "language": "python",
   "name": "python3"
  },
  "language_info": {
   "codemirror_mode": {
    "name": "ipython",
    "version": 3
   },
   "file_extension": ".py",
   "mimetype": "text/x-python",
   "name": "python",
   "nbconvert_exporter": "python",
   "pygments_lexer": "ipython3",
   "version": "3.7.3"
  }
 },
 "nbformat": 4,
 "nbformat_minor": 2
}
