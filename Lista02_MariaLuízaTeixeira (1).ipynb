{
 "cells": [
  {
   "cell_type": "markdown",
   "metadata": {},
   "source": [
    "<div class=\"alert alert-block bg-primary\">\n",
    "<center>MÉTODOS NUMÉRICOS</center>\n",
    "<center>LISTA 02</center>\n",
    "<center>ALUNA: MARIA LUÍZA TEIXEIRA NASCIMENTO</center>\n",
    "</div>"
   ]
  },
  {
   "cell_type": "code",
   "execution_count": 1,
   "metadata": {},
   "outputs": [],
   "source": [
    "import numpy as np"
   ]
  },
  {
   "cell_type": "markdown",
   "metadata": {},
   "source": [
    "<div class=\"alert alert-block alert-info\">\n",
    "<strong>Questão 01</strong> O método “divisão e média”, um método antigo para estimação de raiz quadrada de um número positivo $a$, pode ser formulado como $x = \\frac{x_i + (\\frac{a}{x})}{2}$. Calcule o erro relativo da aproximação para as 10 priemira iterações.</div>"
   ]
  },
  {
   "cell_type": "markdown",
   "metadata": {},
   "source": [
    "<p>Não consegui fazer</p>"
   ]
  },
  {
   "cell_type": "markdown",
   "metadata": {},
   "source": [
    "<div class=\"alert alert-block alert-info\">\n",
    "<strong>Questão 02:</strong> Para computadores, o épsilon da máquina, $ε$, pode ser definido como o menor número que, adicionado a um, retorna um número maior que um, como definimos anteriormente. Usando o algoritmo abaixo, implemente um programa que calcula o épsilon da  sua máquina. Compare com os resultados obtidos via numpy\n",
    "</div>"
   ]
  },
  {
   "cell_type": "markdown",
   "metadata": {},
   "source": [
    "<div class=\"alert alert-block alert-info\">\n",
    "<p><strong>Passo 01:</strong> Defina $e = 1$.</p>\n",
    "<p><strong>Passo 02:</strong> Se $e + 1$ fpr menor ou igual a 1, vá para o Passo 05. Caso contrário, vá para o Passo 03.</p>\n",
    "<p><strong>Passo 03:</strong> $e = \\frac{e}{2}$.</p>\n",
    "<p><strong>Passo 04:</strong> Retorne ao Passo 02.</p>\n",
    "<p><strong>Passo 05:</strong> $e = 2 * e$</p>\n",
    "</div>"
   ]
  },
  {
   "cell_type": "code",
   "execution_count": 30,
   "metadata": {},
   "outputs": [],
   "source": [
    "def Epsilon(e):\n",
    "    if((1+e) <= 1):\n",
    "        return print(2*e)\n",
    "    else:\n",
    "        Epsilon(e/2)"
   ]
  },
  {
   "cell_type": "code",
   "execution_count": 31,
   "metadata": {},
   "outputs": [
    {
     "name": "stdout",
     "output_type": "stream",
     "text": [
      "2.220446049250313e-16\n"
     ]
    }
   ],
   "source": [
    "Epsilon(Valor)"
   ]
  },
  {
   "cell_type": "code",
   "execution_count": 32,
   "metadata": {},
   "outputs": [
    {
     "data": {
      "text/plain": [
       "2.220446049250313e-16"
      ]
     },
     "execution_count": 32,
     "metadata": {},
     "output_type": "execute_result"
    }
   ],
   "source": [
    "np.finfo(float).eps"
   ]
  },
  {
   "cell_type": "markdown",
   "metadata": {},
   "source": [
    "<p>Apesar de serem apresentados de formas diferntes, ambos os valores mostram a semelhança entre a obtenção dos resultados.</p>"
   ]
  },
  {
   "cell_type": "markdown",
   "metadata": {},
   "source": [
    "<div class=\"alert alert-block alert-info\">\n",
    "<strong>Questão 03:</strong> Considere o seguinte processo iterativo:<br><br>\n",
    "$x^(1) = \\frac{1}{3}$<br>\n",
    "$x^(n+1) = 4x^(1) - 1, n = 1,2 ...$\n",
    "<br><br>\n",
    "Observe que $x^1 = \\frac{1}{3}; x^2 = 4*\\frac{1}{3} - 1 = \\frac{1}{3}; x^3 = 4*\\frac{1}{3} - 1 = \\frac{1}{3}$, e por ái vai, ou sej,a temos uma sequência constante igual a $\\frac{1}{3}$. <br>\n",
    "Implemente essa série iterativa, verificando se a convergência de fato ocorre e justifique o resultado obtido.\n",
    "</div>"
   ]
  },
  {
   "cell_type": "code",
   "execution_count": 33,
   "metadata": {},
   "outputs": [],
   "source": [
    "def SomaSerie(Tentativas):\n",
    "    Valor = 1/3\n",
    "    Contador = 0\n",
    "    while Contador < Tentativas:\n",
    "        if(Contador>0):\n",
    "            Valor = 4* Valor -1\n",
    "            print(Valor)\n",
    "        Contador+=1"
   ]
  },
  {
   "cell_type": "code",
   "execution_count": 34,
   "metadata": {},
   "outputs": [
    {
     "name": "stdout",
     "output_type": "stream",
     "text": [
      "0.33333333333333326\n",
      "0.33333333333333304\n",
      "0.33333333333333215\n",
      "0.3333333333333286\n",
      "0.3333333333333144\n",
      "0.33333333333325754\n",
      "0.33333333333303017\n",
      "0.3333333333321207\n",
      "0.3333333333284827\n",
      "0.3333333333139308\n",
      "0.3333333332557231\n",
      "0.3333333330228925\n",
      "0.3333333320915699\n",
      "0.3333333283662796\n",
      "0.3333333134651184\n",
      "0.33333325386047363\n",
      "0.33333301544189453\n",
      "0.3333320617675781\n",
      "0.3333282470703125\n",
      "0.33331298828125\n",
      "0.333251953125\n",
      "0.3330078125\n",
      "0.33203125\n",
      "0.328125\n",
      "0.3125\n",
      "0.25\n",
      "0.0\n",
      "-1.0\n",
      "-5.0\n",
      "-21.0\n",
      "-85.0\n",
      "-341.0\n",
      "-1365.0\n",
      "-5461.0\n",
      "-21845.0\n",
      "-87381.0\n",
      "-349525.0\n",
      "-1398101.0\n",
      "-5592405.0\n",
      "-22369621.0\n",
      "-89478485.0\n",
      "-357913941.0\n",
      "-1431655765.0\n",
      "-5726623061.0\n",
      "-22906492245.0\n",
      "-91625968981.0\n",
      "-366503875925.0\n",
      "-1466015503701.0\n",
      "-5864062014805.0\n"
     ]
    }
   ],
   "source": [
    "SomaSerie(50)"
   ]
  },
  {
   "cell_type": "markdown",
   "metadata": {},
   "source": [
    "<p>Em conceito matemáticos uma soma simples de 1/3 + 1/3 + 1/3 deveria resultar em 1. Mas em forma computacional, essa conta simples não ocorreu de forma esperada, visto que o computador trabalhou com esses dados e principalmente a multiplicação com o número 4 produzindo uma dizima periódica. Chegando até 0.0, mas não 1.0 (positivo) devido a capacidade do computador em arrendondar números com uma precisão que resultasse em 1.0. Assim, mostrando que está conta simples pode ser um pouco \"decepcionante\" em termos computacionais simples.</p>"
   ]
  },
  {
   "cell_type": "markdown",
   "metadata": {},
   "source": [
    "<div class=\"alert alert-block alert-info\">\n",
    "<strong>Questão 04:</strong> Considere as expressões: <br>\n",
    "$\\frac{exp(\\frac{1}{µ})}{1 + exp(\\frac{1}{µ})}$ e $\\frac{1}{exp(\\frac{-1}{µ}) + 1}$, com $µ > 0$. Verifique que eles são idênticas como funções reais. Teste no computador cada uma delas para $µ = 0.1, µ = 0.01, µ = 0.001$ ou menor e responda. <strong>Qual dessas expressões é mais adequada quando $µ$ é um número pequeno? Por quê?</strong>\n",
    "</div>"
   ]
  },
  {
   "cell_type": "markdown",
   "metadata": {},
   "source": [
    "<p>Não consegui fazer, deu um estouro de pilha.</p>"
   ]
  },
  {
   "cell_type": "markdown",
   "metadata": {},
   "source": [
    "<div class=\"alert alert-block alert-info\">\n",
    "<p>Questão 05:</p> Observe a seginte identidade.<br><br>\n",
    "$f(x) = \\frac{(1 + x) - 1}{x}$. <br><br>Não é muito difícil verificar, analiticamente, que, para qualquer valor de $x$, sempre teremos $f(x) = 1$. Faça um progrmama que calcule o valor da expressão para $x$ = 10^(-12), $x$ = 10^(-15) e $x$ = 10^(-17). Compare os resultados com o resultado analítico e os explique-os. \n",
    "</div>"
   ]
  },
  {
   "cell_type": "code",
   "execution_count": 35,
   "metadata": {},
   "outputs": [],
   "source": [
    "def FuncaoIdentidade(Valor):\n",
    "    Saida = ((1+Valor-1)/Valor)\n",
    "    return Saida"
   ]
  },
  {
   "cell_type": "code",
   "execution_count": 36,
   "metadata": {},
   "outputs": [
    {
     "data": {
      "text/plain": [
       "(1.000088900582341, 1.1102230246251565, 0.0)"
      ]
     },
     "execution_count": 36,
     "metadata": {},
     "output_type": "execute_result"
    }
   ],
   "source": [
    "FuncaoIdentidade((10**-12)), FuncaoIdentidade((10**-15)), FuncaoIdentidade((10**-17))"
   ]
  },
  {
   "cell_type": "markdown",
   "metadata": {},
   "source": [
    "<div><p>De acordo com a função, a saída sempre será 1 visto que o valor seria basicamente dividir um número por ele mesmo. Mas, entramos em uma situação semelhante que na questão 1.3, aqui as variáveis, operações e a capacidade de armazenamento de casas deciamis possuem uma grande influencia, para a obtenção precisa do valor. Explicando nos primeiros dois casos, o terceiro caso deu o número de casa decimais é tão pequena que poderia (e com certeza deve) ter um dado descartado, assim facilitando um arredondamento erroneo para zero.</p></div>"
   ]
  }
 ],
 "metadata": {
  "kernelspec": {
   "display_name": "Python 3",
   "language": "python",
   "name": "python3"
  },
  "language_info": {
   "codemirror_mode": {
    "name": "ipython",
    "version": 3
   },
   "file_extension": ".py",
   "mimetype": "text/x-python",
   "name": "python",
   "nbconvert_exporter": "python",
   "pygments_lexer": "ipython3",
   "version": "3.7.3"
  }
 },
 "nbformat": 4,
 "nbformat_minor": 2
}
