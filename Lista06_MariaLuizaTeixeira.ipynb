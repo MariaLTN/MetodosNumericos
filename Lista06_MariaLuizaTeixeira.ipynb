{
 "cells": [
  {
   "cell_type": "markdown",
   "metadata": {},
   "source": [
    "<div class=\"alert alert-block bg-primary\">\n",
    "<center>MÉTODOS NUMÉRICOS</center>\n",
    "<center>LISTA 06</center>\n",
    "<center>ALUNA: MARIA LUÍZA TEIXEIRA NASCIMENTO</center>\n",
    "</div>"
   ]
  },
  {
   "cell_type": "code",
   "execution_count": 1,
   "metadata": {},
   "outputs": [],
   "source": [
    "import pandas as pd\n",
    "import numpy as np\n",
    "import scipy.linalg as sla"
   ]
  },
  {
   "cell_type": "markdown",
   "metadata": {},
   "source": [
    "<div class=\"alert alert-block alert-info\">\n",
    "<center><strong>Exercício 1.1:</strong> Classifique os sistemas abaixo com relação a quantidade e existência de soluções.</center>\n",
    "</div>"
   ]
  },
  {
   "cell_type": "markdown",
   "metadata": {},
   "source": [
    "<div class=\"alert alert-block alert-info\">\n",
    "<strong>Letra A: </strong><br><br>\n",
    "$1x + 2y + 3z = 1$<br>\n",
    "$4x + 5y + 6z = 1$<br>\n",
    "$7x + 8y + 9z = 1$\n",
    "</div>"
   ]
  },
  {
   "cell_type": "markdown",
   "metadata": {},
   "source": [
    "<div class=\"alert alert-block alert-light\">\n",
    "<center>\n",
    "<p><strong>Explicação:</strong>Com bases nos conteúdos aprendidos na apostila temos a necessidade de termos 2 dados para analizar a quantidade e existência de soluções desses sistemas. Precisamos primeiramente do <strong>rank(A matriz dos coeficientes)</strong> e a <strong>rank(A matriz extendida)</strong>.</p>\n",
    "<p> Para calcularmos o primeiro, precisamos fazer o uso do np.array, linalg e matrix_rank da matriz dos coeficientes.\n",
    "</p>\n",
    "<p> Para colocarmos o segundo, usando os mesmos artificios do anterior, complementando com o uso do \".c_\" que concatena arrays ao longo do eixo 1.</p></center>\n",
    "</div>"
   ]
  },
  {
   "cell_type": "code",
   "execution_count": 2,
   "metadata": {},
   "outputs": [],
   "source": [
    "A = np.array([[1,2,3],[4,5,6],[7,8,9]])\n",
    "B = np.array([1,1,1])"
   ]
  },
  {
   "cell_type": "code",
   "execution_count": 3,
   "metadata": {
    "scrolled": true
   },
   "outputs": [
    {
     "data": {
      "text/plain": [
       "array([[1, 2, 3, 1],\n",
       "       [4, 5, 6, 1],\n",
       "       [7, 8, 9, 1]])"
      ]
     },
     "execution_count": 3,
     "metadata": {},
     "output_type": "execute_result"
    }
   ],
   "source": [
    "np.c_[A, B]"
   ]
  },
  {
   "cell_type": "code",
   "execution_count": 4,
   "metadata": {},
   "outputs": [
    {
     "data": {
      "text/plain": [
       "2"
      ]
     },
     "execution_count": 4,
     "metadata": {},
     "output_type": "execute_result"
    }
   ],
   "source": [
    "np.linalg.matrix_rank(A) #Rank (Matriz dos coeficientes)"
   ]
  },
  {
   "cell_type": "code",
   "execution_count": 5,
   "metadata": {},
   "outputs": [
    {
     "data": {
      "text/plain": [
       "2"
      ]
     },
     "execution_count": 5,
     "metadata": {},
     "output_type": "execute_result"
    }
   ],
   "source": [
    "np.linalg.matrix_rank(np.c_[A, B]) #Rank (Matriz extendida)"
   ]
  },
  {
   "cell_type": "code",
   "execution_count": 6,
   "metadata": {},
   "outputs": [
    {
     "data": {
      "text/plain": [
       "3"
      ]
     },
     "execution_count": 6,
     "metadata": {},
     "output_type": "execute_result"
    }
   ],
   "source": [
    "A.shape[1]"
   ]
  },
  {
   "cell_type": "markdown",
   "metadata": {},
   "source": [
    "<center><strong>Explicação: </strong>Observamos que o número de o número da matriz dos coeficientes e matriz extendida são as mesmas (igual a 2). Mas, o nosso \"A.shape[1]\" é igual a 3. Logo, temos como resultado um sistema possível e indeterminado.</center>"
   ]
  },
  {
   "cell_type": "markdown",
   "metadata": {},
   "source": [
    "<div class=\"alert alert-block alert-info\">\n",
    "<strong>Letra B:</strong><br><br>\n",
    "$+2x + 3y = 10$<br>\n",
    "$-4x - 6y = -10$\n",
    "</div>"
   ]
  },
  {
   "cell_type": "code",
   "execution_count": 7,
   "metadata": {},
   "outputs": [],
   "source": [
    "C = np.array([[2,3], [-4,-6]])\n",
    "D = np.array([10,-10])"
   ]
  },
  {
   "cell_type": "code",
   "execution_count": 8,
   "metadata": {},
   "outputs": [
    {
     "data": {
      "text/plain": [
       "array([[  2,   3,  10],\n",
       "       [ -4,  -6, -10]])"
      ]
     },
     "execution_count": 8,
     "metadata": {},
     "output_type": "execute_result"
    }
   ],
   "source": [
    "np.c_[C,D]"
   ]
  },
  {
   "cell_type": "code",
   "execution_count": 9,
   "metadata": {},
   "outputs": [
    {
     "data": {
      "text/plain": [
       "1"
      ]
     },
     "execution_count": 9,
     "metadata": {},
     "output_type": "execute_result"
    }
   ],
   "source": [
    "np.linalg.matrix_rank(C) #Rank (Matriz dos coeficientes)"
   ]
  },
  {
   "cell_type": "code",
   "execution_count": 10,
   "metadata": {},
   "outputs": [
    {
     "data": {
      "text/plain": [
       "2"
      ]
     },
     "execution_count": 10,
     "metadata": {},
     "output_type": "execute_result"
    }
   ],
   "source": [
    "np.linalg.matrix_rank(np.c_[C, D]) #Rank (Matriz extendida)"
   ]
  },
  {
   "cell_type": "markdown",
   "metadata": {},
   "source": [
    "<center><strong>Explicação: </strong>Observamos que o número de o número da matriz dos coeficientes e matriz extendida NÃO são as mesmas (A matriz dos coeficiente é igual a 1 e a Matriz extendida é igual a 2). Logo, temos como resultado um sistema impossível.</center>"
   ]
  },
  {
   "cell_type": "markdown",
   "metadata": {},
   "source": [
    "<div class=\"alert alert-block alert-info\">\n",
    "<center><strong>Exercício 1.2:</strong> Repita o exemplo 3.2, fazendo cada passo da execução de forma explícita, comparando como o algoritmo 1.2 e a função sist_lin_tri_sup funciona.</center>\n",
    "</div>"
   ]
  },
  {
   "cell_type": "code",
   "execution_count": 11,
   "metadata": {},
   "outputs": [],
   "source": [
    "E = np.array([[3, 4, -5, 1],[0, 1, 1, -2],[0, 0, 4, -5], [0, 0, 0, 2]])\n",
    "F = np.array([-10, -1, 3, 2])"
   ]
  },
  {
   "cell_type": "code",
   "execution_count": 12,
   "metadata": {},
   "outputs": [
    {
     "data": {
      "text/plain": [
       "array([[  3,   4,  -5,   1, -10],\n",
       "       [  0,   1,   1,  -2,  -1],\n",
       "       [  0,   0,   4,  -5,   3],\n",
       "       [  0,   0,   0,   2,   2]])"
      ]
     },
     "execution_count": 12,
     "metadata": {},
     "output_type": "execute_result"
    }
   ],
   "source": [
    "np.c_[E,F] #Nossa matriz extendida."
   ]
  },
  {
   "cell_type": "code",
   "execution_count": 13,
   "metadata": {},
   "outputs": [
    {
     "data": {
      "text/plain": [
       "array([ 2.,  3., -4., -6.])"
      ]
     },
     "execution_count": 13,
     "metadata": {},
     "output_type": "execute_result"
    }
   ],
   "source": [
    "#Passo 01: Criar um vetor com todos os valores iguais a zero.\n",
    "n = len(F)\n",
    "x = np.empty(n) #Num de colunas = n = len(F)\n",
    "x"
   ]
  },
  {
   "cell_type": "code",
   "execution_count": 14,
   "metadata": {},
   "outputs": [
    {
     "data": {
      "text/plain": [
       "1.0"
      ]
     },
     "execution_count": 14,
     "metadata": {},
     "output_type": "execute_result"
    }
   ],
   "source": [
    "#Passo 02: Calcular a incógnita de MAIOR índice x = (b/a)\n",
    "x[-1] = F[-1]/E[-1, -1]\n",
    "x[-1]"
   ]
  },
  {
   "cell_type": "code",
   "execution_count": 15,
   "metadata": {},
   "outputs": [
    {
     "name": "stdout",
     "output_type": "stream",
     "text": [
      "2.0\n",
      "-1.0\n",
      "1.0\n"
     ]
    }
   ],
   "source": [
    "#Passo 03: Calcular os valres restantes do vetor solução.\n",
    "#Passo 04: Atualização do valor \"x\".\n",
    "for i in range(n-2, -1, -1): #Vamos decrementar.\n",
    "    x[i] = (F[i] - np.sum(E[i,i+1:]*x[i+1:]))/E[i,i]\n",
    "    print(x[i])"
   ]
  },
  {
   "cell_type": "markdown",
   "metadata": {},
   "source": [
    "<center><strong>Explicação: </strong>Resolvendo o algoritmo 1.2 em cada passo temos, a obtenção do valor da maior incógnita, no nosso caso é o $x_4 = 1$ e com o \"for\" saberemos o valor das outras incógnitas:$x_3 = 2$, $x_2 = -1$ e $x_1 = 1$ </center>"
   ]
  },
  {
   "cell_type": "markdown",
   "metadata": {},
   "source": [
    "<center><strong>Outra forma de comprovar: </strong>Fazendo as contas na mão da 4 linhas temos: </center>"
   ]
  },
  {
   "cell_type": "code",
   "execution_count": 16,
   "metadata": {},
   "outputs": [
    {
     "data": {
      "text/plain": [
       "1.0"
      ]
     },
     "execution_count": 16,
     "metadata": {},
     "output_type": "execute_result"
    }
   ],
   "source": [
    "X_4 = 2/2\n",
    "X_4"
   ]
  },
  {
   "cell_type": "code",
   "execution_count": 17,
   "metadata": {},
   "outputs": [
    {
     "data": {
      "text/plain": [
       "2.0"
      ]
     },
     "execution_count": 17,
     "metadata": {},
     "output_type": "execute_result"
    }
   ],
   "source": [
    "X_3 = (3 + 5*(X_4))/4\n",
    "X_3"
   ]
  },
  {
   "cell_type": "code",
   "execution_count": 18,
   "metadata": {},
   "outputs": [
    {
     "data": {
      "text/plain": [
       "-1.0"
      ]
     },
     "execution_count": 18,
     "metadata": {},
     "output_type": "execute_result"
    }
   ],
   "source": [
    "X_2 = (-1 + 2*(X_4) - 1*(X_3))\n",
    "X_2"
   ]
  },
  {
   "cell_type": "code",
   "execution_count": 19,
   "metadata": {},
   "outputs": [
    {
     "data": {
      "text/plain": [
       "1.0"
      ]
     },
     "execution_count": 19,
     "metadata": {},
     "output_type": "execute_result"
    }
   ],
   "source": [
    "X_1 = (-10 - 1*(X_4) + 5*(X_3) - 4*(X_2))/3\n",
    "X_1"
   ]
  },
  {
   "cell_type": "code",
   "execution_count": 20,
   "metadata": {},
   "outputs": [
    {
     "data": {
      "text/plain": [
       "[1.0, -1.0, 2.0, 1.0]"
      ]
     },
     "execution_count": 20,
     "metadata": {},
     "output_type": "execute_result"
    }
   ],
   "source": [
    "Valor_X = [X_1, X_2, X_3, X_4]\n",
    "Valor_X"
   ]
  },
  {
   "cell_type": "markdown",
   "metadata": {},
   "source": [
    "<center><strong>Explicação: </strong> O cálculo feito a mão é identico ao resultado que obteriamos usando o \"sis_lin_tri_sup\". Para comprovar usaremos a função abaixo:</center>"
   ]
  },
  {
   "cell_type": "code",
   "execution_count": 21,
   "metadata": {},
   "outputs": [],
   "source": [
    "def sist_lin_tri_sup(A,b):\n",
    "    n = len(b)\n",
    "    x = np.empty(n)\n",
    "    x[-1] = b[-1]/A[-1, -1]\n",
    "    for i in range(n-2, -1, -1):\n",
    "        x[i] = (b[i] - np.sum(A[i,i+1:]*x[i+1:]))/A[i,i]\n",
    "    return x"
   ]
  },
  {
   "cell_type": "code",
   "execution_count": 22,
   "metadata": {},
   "outputs": [
    {
     "data": {
      "text/plain": [
       "array([ 1., -1.,  2.,  1.])"
      ]
     },
     "execution_count": 22,
     "metadata": {},
     "output_type": "execute_result"
    }
   ],
   "source": [
    "Valor_X_funcao = sist_lin_tri_sup(E, F)\n",
    "Valor_X_funcao"
   ]
  },
  {
   "cell_type": "markdown",
   "metadata": {},
   "source": [
    "<center><strong>Explicação: </strong>Aplicando os valores (X_1, X_2, X_3, X_4) nas equações para obtermos o resultado, vemos que obtemos os resultados certo.</center>"
   ]
  },
  {
   "cell_type": "code",
   "execution_count": 23,
   "metadata": {},
   "outputs": [
    {
     "data": {
      "text/plain": [
       "-10.0"
      ]
     },
     "execution_count": 23,
     "metadata": {},
     "output_type": "execute_result"
    }
   ],
   "source": [
    "3*X_1 + 4*X_2 - 5*X_3 + X_4"
   ]
  },
  {
   "cell_type": "code",
   "execution_count": 24,
   "metadata": {},
   "outputs": [
    {
     "data": {
      "text/plain": [
       "-1.0"
      ]
     },
     "execution_count": 24,
     "metadata": {},
     "output_type": "execute_result"
    }
   ],
   "source": [
    "X_2 + X_3 - 2*X_4"
   ]
  },
  {
   "cell_type": "code",
   "execution_count": 25,
   "metadata": {},
   "outputs": [
    {
     "data": {
      "text/plain": [
       "3.0"
      ]
     },
     "execution_count": 25,
     "metadata": {},
     "output_type": "execute_result"
    }
   ],
   "source": [
    "4*X_3 - 5*X_4"
   ]
  },
  {
   "cell_type": "code",
   "execution_count": 26,
   "metadata": {},
   "outputs": [
    {
     "data": {
      "text/plain": [
       "2.0"
      ]
     },
     "execution_count": 26,
     "metadata": {},
     "output_type": "execute_result"
    }
   ],
   "source": [
    "2*X_4"
   ]
  },
  {
   "cell_type": "markdown",
   "metadata": {},
   "source": [
    "<div class=\"alert alert-block alert-info\">\n",
    "<center><strong>Exercício 1.3:</strong> Repita o exemplo 3.3, fazendo cada passo da execução de forma explícita, comparando como o algoritmo 1.3 e a função sist_lin_tri_inf funciona.</center>\n",
    "</div>"
   ]
  },
  {
   "cell_type": "code",
   "execution_count": 27,
   "metadata": {},
   "outputs": [],
   "source": [
    "G = np.array([[3,0,0,0],[2,1,0,0],[1,0,1,0],[1,1,1,1]])\n",
    "H = np.array([4,2,4,2])"
   ]
  },
  {
   "cell_type": "code",
   "execution_count": 28,
   "metadata": {},
   "outputs": [
    {
     "data": {
      "text/plain": [
       "array([[3, 0, 0, 0, 4],\n",
       "       [2, 1, 0, 0, 2],\n",
       "       [1, 0, 1, 0, 4],\n",
       "       [1, 1, 1, 1, 2]])"
      ]
     },
     "execution_count": 28,
     "metadata": {},
     "output_type": "execute_result"
    }
   ],
   "source": [
    "np.c_[G,H] #Nossa matriz extendida."
   ]
  },
  {
   "cell_type": "code",
   "execution_count": 29,
   "metadata": {},
   "outputs": [
    {
     "data": {
      "text/plain": [
       "array([1., 1., 2., 1.])"
      ]
     },
     "execution_count": 29,
     "metadata": {},
     "output_type": "execute_result"
    }
   ],
   "source": [
    "#Passo 01: Criar um vetor com todos os valores iguais a zero.\n",
    "n = len(H)\n",
    "x = np.empty(n) #Num de colunas = n = len(H)\n",
    "x"
   ]
  },
  {
   "cell_type": "code",
   "execution_count": 30,
   "metadata": {},
   "outputs": [
    {
     "data": {
      "text/plain": [
       "1.3333333333333333"
      ]
     },
     "execution_count": 30,
     "metadata": {},
     "output_type": "execute_result"
    }
   ],
   "source": [
    "#Passo 02: Calcular a incógnita de MENOR índice x = (b/a)\n",
    "x[0] = H[0]/G[0,0]\n",
    "x[0]"
   ]
  },
  {
   "cell_type": "code",
   "execution_count": 31,
   "metadata": {},
   "outputs": [],
   "source": [
    "#Passo 03: Calcular os valres restantes do vetor solução.\n",
    "#Passo 04: Atualização do valor \"x\".\n",
    "for i in range(1, n): #Vamos decrementar.\n",
    "    x[i] = (H[i] - np.sum(G[i,:i]*x[:i]))/G[i,i]"
   ]
  },
  {
   "cell_type": "markdown",
   "metadata": {},
   "source": [
    "<center><strong>Explicação: </strong>Resolvendo o algoritmo 1.2 em cada passo temos, a obtenção do valor da menor incógnita, no nosso caso é o $x_1 = 1.3333333333333333$ e com o \"for\" saberemos o valor das outras incógnitas:$x_2 = -0.6666666666666665$, $x_3 = 2.666666666666667$ e $x_4 = -1.3333333333333337$ </center>"
   ]
  },
  {
   "cell_type": "markdown",
   "metadata": {},
   "source": [
    "<center><strong>Outra forma de comprovar: </strong>Fazendo as contas na mão da 4 linhas temos: </center>"
   ]
  },
  {
   "cell_type": "code",
   "execution_count": 32,
   "metadata": {},
   "outputs": [
    {
     "data": {
      "text/plain": [
       "1.3333333333333333"
      ]
     },
     "execution_count": 32,
     "metadata": {},
     "output_type": "execute_result"
    }
   ],
   "source": [
    "X_1 = 4/3\n",
    "X_1"
   ]
  },
  {
   "cell_type": "code",
   "execution_count": 33,
   "metadata": {},
   "outputs": [
    {
     "data": {
      "text/plain": [
       "-0.6666666666666665"
      ]
     },
     "execution_count": 33,
     "metadata": {},
     "output_type": "execute_result"
    }
   ],
   "source": [
    "X_2 = 2 - 2*X_1\n",
    "X_2"
   ]
  },
  {
   "cell_type": "code",
   "execution_count": 34,
   "metadata": {},
   "outputs": [
    {
     "data": {
      "text/plain": [
       "2.666666666666667"
      ]
     },
     "execution_count": 34,
     "metadata": {},
     "output_type": "execute_result"
    }
   ],
   "source": [
    "X_3 = 4 - X_1 \n",
    "X_3"
   ]
  },
  {
   "cell_type": "code",
   "execution_count": 35,
   "metadata": {},
   "outputs": [
    {
     "data": {
      "text/plain": [
       "-1.3333333333333337"
      ]
     },
     "execution_count": 35,
     "metadata": {},
     "output_type": "execute_result"
    }
   ],
   "source": [
    "X_4  = 2 - X_1 - X_2 - X_3\n",
    "X_4"
   ]
  },
  {
   "cell_type": "code",
   "execution_count": 36,
   "metadata": {},
   "outputs": [
    {
     "data": {
      "text/plain": [
       "[1.3333333333333333,\n",
       " -0.6666666666666665,\n",
       " 2.666666666666667,\n",
       " -1.3333333333333337]"
      ]
     },
     "execution_count": 36,
     "metadata": {},
     "output_type": "execute_result"
    }
   ],
   "source": [
    "Valor_X = [X_1, X_2, X_3, X_4]\n",
    "Valor_X"
   ]
  },
  {
   "cell_type": "markdown",
   "metadata": {},
   "source": [
    "<center><strong>Explicação: </strong> O cálculo feito a mão é identico ao resultado que obteriamos usando o \"sis_lin_tri_inf\". Para comprovar usaremos a função abaixo:</center>"
   ]
  },
  {
   "cell_type": "code",
   "execution_count": 37,
   "metadata": {},
   "outputs": [],
   "source": [
    "def sist_lin_tri_inf(A,b):\n",
    "    n = len(b)\n",
    "    x = np.empty(n)\n",
    "    x[0] = b[0]/A[0, 0]\n",
    "    for i in range(1,n):\n",
    "        x[i] = (b[i] - np.sum(A[i,:i]*x[:i]))/A[i,i]\n",
    "    return x"
   ]
  },
  {
   "cell_type": "code",
   "execution_count": 38,
   "metadata": {},
   "outputs": [
    {
     "data": {
      "text/plain": [
       "array([ 1.33333333, -0.66666667,  2.66666667, -1.33333333])"
      ]
     },
     "execution_count": 38,
     "metadata": {},
     "output_type": "execute_result"
    }
   ],
   "source": [
    "Valor_X_funcao = sist_lin_tri_inf(G, H)\n",
    "Valor_X_funcao"
   ]
  },
  {
   "cell_type": "markdown",
   "metadata": {},
   "source": [
    "<center><strong>Explicação: </strong>Aplicando os valores (X_1, X_2, X_3, X_4) nas equações para obtermos o resultado, vemos que obtemos os resultados certo.</center>"
   ]
  },
  {
   "cell_type": "code",
   "execution_count": 39,
   "metadata": {},
   "outputs": [
    {
     "data": {
      "text/plain": [
       "4.0"
      ]
     },
     "execution_count": 39,
     "metadata": {},
     "output_type": "execute_result"
    }
   ],
   "source": [
    "3*X_1"
   ]
  },
  {
   "cell_type": "code",
   "execution_count": 40,
   "metadata": {},
   "outputs": [
    {
     "data": {
      "text/plain": [
       "2.0"
      ]
     },
     "execution_count": 40,
     "metadata": {},
     "output_type": "execute_result"
    }
   ],
   "source": [
    "2*X_1 + X_2"
   ]
  },
  {
   "cell_type": "code",
   "execution_count": 41,
   "metadata": {},
   "outputs": [
    {
     "data": {
      "text/plain": [
       "4.0"
      ]
     },
     "execution_count": 41,
     "metadata": {},
     "output_type": "execute_result"
    }
   ],
   "source": [
    "X_1 + X_3"
   ]
  },
  {
   "cell_type": "code",
   "execution_count": 42,
   "metadata": {},
   "outputs": [
    {
     "data": {
      "text/plain": [
       "2.0"
      ]
     },
     "execution_count": 42,
     "metadata": {},
     "output_type": "execute_result"
    }
   ],
   "source": [
    "X_1 + X_2 + X_3 + X_4"
   ]
  },
  {
   "cell_type": "markdown",
   "metadata": {},
   "source": [
    "<div class=\"alert alert-block alert-info\">\n",
    "<center><strong>Exercício 1.4:</strong> Implemente uma função, cujos parâmetros de entrada sejam somente a matriz de coeficientes e o vetor de termos independentes e que calcule o vetor solução para qualquer um dos casos triviais vistos aqui. Atente para o fato de que a própria função terá de verificar se a matriz de coeficientes é diagonal, triangular superior ou inferior e não o usuário.</center>\n",
    "</div>"
   ]
  },
  {
   "cell_type": "code",
   "execution_count": 43,
   "metadata": {},
   "outputs": [],
   "source": [
    "def Diagonal(Matriz, Chave):\n",
    "    Soma = 0\n",
    "    Size = Matriz.shape[1]\n",
    "    for linha in range(Size):\n",
    "        for coluna in range(Size):\n",
    "            if (Chave == \"I\"):\n",
    "                if(coluna>linha):\n",
    "                    Soma += Matriz[linha][coluna]\n",
    "            elif (Chave == \"S\"):\n",
    "                if(coluna<linha):\n",
    "                    Soma += Matriz[linha][coluna]                \n",
    "    return Soma"
   ]
  },
  {
   "cell_type": "code",
   "execution_count": 44,
   "metadata": {},
   "outputs": [],
   "source": [
    "def FuncaoSolucao(M_coeficientes, termos_ind):\n",
    "    #Saber se o sistema tem soluções:\n",
    "    rank_coeficientes = np.linalg.matrix_rank(M_coeficientes)\n",
    "    rank_extendido = np.linalg.matrix_rank(np.c_[M_coeficientes, termos_ind])\n",
    "    num_linhas = M_coeficientes.shape[1]\n",
    "    if (rank_extendido > rank_coeficientes):\n",
    "        return (\"O sistema NÃO ADMITE uma solução PRECISA.\")\n",
    "    else:\n",
    "        #O resto admite pelo menos 1 solução.\n",
    "        DiagonalSup = Diagonal(M_coeficientes, \"I\")\n",
    "        DiagonalInf = Diagonal(M_coeficientes, \"S\")\n",
    "        if (DiagonalSup == 0):\n",
    "            Valor = sla.solve_triangular(M_coeficientes, termos_ind, lower=True)\n",
    "        elif (DiagonalInf == 0):\n",
    "            Valor = sla.solve_triangular(M_coeficientes, termos_ind, lower=False)\n",
    "        else:\n",
    "            Valor = sist_lin_tri_inf(M_coeficientes, termos_ind)\n",
    "    return Valor        "
   ]
  },
  {
   "cell_type": "markdown",
   "metadata": {},
   "source": [
    "<center><strong>Casos Testes: </strong></center>"
   ]
  },
  {
   "cell_type": "code",
   "execution_count": 45,
   "metadata": {},
   "outputs": [
    {
     "data": {
      "text/plain": [
       "(array([[1, 2, 3],\n",
       "        [4, 5, 6],\n",
       "        [7, 8, 9]]), array([1, 1, 1]))"
      ]
     },
     "execution_count": 45,
     "metadata": {},
     "output_type": "execute_result"
    }
   ],
   "source": [
    "A, B"
   ]
  },
  {
   "cell_type": "code",
   "execution_count": 46,
   "metadata": {},
   "outputs": [
    {
     "data": {
      "text/plain": [
       "array([ 1.        , -0.6       , -0.13333333])"
      ]
     },
     "execution_count": 46,
     "metadata": {},
     "output_type": "execute_result"
    }
   ],
   "source": [
    "FuncaoSolucao(A,B)"
   ]
  },
  {
   "cell_type": "code",
   "execution_count": 47,
   "metadata": {},
   "outputs": [
    {
     "data": {
      "text/plain": [
       "(array([[ 2,  3],\n",
       "        [-4, -6]]), array([ 10, -10]))"
      ]
     },
     "execution_count": 47,
     "metadata": {},
     "output_type": "execute_result"
    }
   ],
   "source": [
    "C, D"
   ]
  },
  {
   "cell_type": "code",
   "execution_count": 48,
   "metadata": {},
   "outputs": [
    {
     "data": {
      "text/plain": [
       "'O sistema NÃO ADMITE uma solução PRECISA.'"
      ]
     },
     "execution_count": 48,
     "metadata": {},
     "output_type": "execute_result"
    }
   ],
   "source": [
    "FuncaoSolucao(C, D)"
   ]
  },
  {
   "cell_type": "code",
   "execution_count": 49,
   "metadata": {},
   "outputs": [
    {
     "data": {
      "text/plain": [
       "(array([[ 3,  4, -5,  1],\n",
       "        [ 0,  1,  1, -2],\n",
       "        [ 0,  0,  4, -5],\n",
       "        [ 0,  0,  0,  2]]), array([-10,  -1,   3,   2]))"
      ]
     },
     "execution_count": 49,
     "metadata": {},
     "output_type": "execute_result"
    }
   ],
   "source": [
    "E,F "
   ]
  },
  {
   "cell_type": "code",
   "execution_count": 50,
   "metadata": {},
   "outputs": [
    {
     "data": {
      "text/plain": [
       "array([ 1., -1.,  2.,  1.])"
      ]
     },
     "execution_count": 50,
     "metadata": {},
     "output_type": "execute_result"
    }
   ],
   "source": [
    "FuncaoSolucao(E, F)"
   ]
  },
  {
   "cell_type": "code",
   "execution_count": 51,
   "metadata": {},
   "outputs": [
    {
     "data": {
      "text/plain": [
       "(array([[3, 0, 0, 0],\n",
       "        [2, 1, 0, 0],\n",
       "        [1, 0, 1, 0],\n",
       "        [1, 1, 1, 1]]), array([4, 2, 4, 2]))"
      ]
     },
     "execution_count": 51,
     "metadata": {},
     "output_type": "execute_result"
    }
   ],
   "source": [
    "G, H"
   ]
  },
  {
   "cell_type": "code",
   "execution_count": 52,
   "metadata": {},
   "outputs": [
    {
     "data": {
      "text/plain": [
       "array([ 1.33333333, -0.66666667,  2.66666667, -1.33333333])"
      ]
     },
     "execution_count": 52,
     "metadata": {},
     "output_type": "execute_result"
    }
   ],
   "source": [
    "FuncaoSolucao(G, H)"
   ]
  },
  {
   "cell_type": "code",
   "execution_count": 53,
   "metadata": {},
   "outputs": [],
   "source": [
    "I = np.array([[1,0,0],[0,4,0],[0,0,2]])\n",
    "J = np.array([4,2,2])"
   ]
  },
  {
   "cell_type": "code",
   "execution_count": 54,
   "metadata": {},
   "outputs": [
    {
     "data": {
      "text/plain": [
       "array([4. , 0.5, 1. ])"
      ]
     },
     "execution_count": 54,
     "metadata": {},
     "output_type": "execute_result"
    }
   ],
   "source": [
    "FuncaoSolucao(I, J)"
   ]
  },
  {
   "cell_type": "markdown",
   "metadata": {},
   "source": [
    "<center><strong>Explicação: </strong>Conseguimos ver que os exemplos usados em outras questões e um exemplo, comportou-se de maneira prevista. Dando os resultados esperados.</center>"
   ]
  }
 ],
 "metadata": {
  "kernelspec": {
   "display_name": "Python 3",
   "language": "python",
   "name": "python3"
  },
  "language_info": {
   "codemirror_mode": {
    "name": "ipython",
    "version": 3
   },
   "file_extension": ".py",
   "mimetype": "text/x-python",
   "name": "python",
   "nbconvert_exporter": "python",
   "pygments_lexer": "ipython3",
   "version": "3.7.3"
  }
 },
 "nbformat": 4,
 "nbformat_minor": 2
}
