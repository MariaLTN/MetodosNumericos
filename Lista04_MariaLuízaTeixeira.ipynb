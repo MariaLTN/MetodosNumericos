{
 "cells": [
  {
   "cell_type": "markdown",
   "metadata": {},
   "source": [
    "<div class=\"alert alert-block bg-primary\">\n",
    "<center>MÉTODOS NUMÉRICOS</center>\n",
    "<center>LISTA 04</center>\n",
    "<center>ALUNA: MARIA LUÍZA TEIXEIRA NASCIMENTO</center>\n",
    "</div>"
   ]
  },
  {
   "cell_type": "code",
   "execution_count": 1,
   "metadata": {},
   "outputs": [],
   "source": [
    "import numpy as np\n",
    "import pandas as pd\n",
    "import matplotlib.pyplot as plt "
   ]
  },
  {
   "cell_type": "markdown",
   "metadata": {},
   "source": [
    "<div class=\"alert alert-block alert-info\">\n",
    "<center>\n",
    "<strong>Questão 01:</strong> Implemente o método da Bisseção descrito pelo algoritmo 1.1 no texto. Para testar o algoritmo, use os exemplos do material textual.\n",
    "</center>\n",
    "</div>"
   ]
  },
  {
   "cell_type": "code",
   "execution_count": 2,
   "metadata": {},
   "outputs": [],
   "source": [
    "def bissecao(funcao, a, b, tol=1e-10): # Valor default de TOL\n",
    "    df = pd.DataFrame([],columns=['a','b','x','Erro'])\n",
    "    erro, x_ant = 1, a\n",
    "    while(erro>tol):\n",
    "        inf = np.sign(funcao(a))\n",
    "        sup = np.sign(funcao(b))\n",
    "        if ((inf*sup)!=-1):\n",
    "            return print(\"Não existe raíz no intervalo {} e {}\".format(a,b))\n",
    "        else:\n",
    "            x = (a+b)/2\n",
    "            df.loc[len(df)] = [a, b, x, erro]\n",
    "            if (funcao(x)==0):\n",
    "                return print(\"A raíz é {}\".format(x))\n",
    "            elif (inf*np.sign(funcao(x))==-1):\n",
    "                b = x\n",
    "            else:\n",
    "                a = x\n",
    "        erro = np.abs(x-x_ant)/np.abs(x) \n",
    "        x_ant = x\n",
    "    return x, df"
   ]
  },
  {
   "cell_type": "markdown",
   "metadata": {},
   "source": [
    "<p>A implementação do algoritmo foi dada pelo professor. A minha maior dúvida foi quais exemplos do material deveria usar para testar, então escolhi alguns dos exemplos no material e outros trabalhados em sala de aula.</p>\n",
    "<p>O que podem ser vistos abaixo:</p>"
   ]
  },
  {
   "cell_type": "markdown",
   "metadata": {},
   "source": [
    "<center>$f(x) = x^5 + 2x^3 - 5x - 2$<center>"
   ]
  },
  {
   "cell_type": "code",
   "execution_count": 3,
   "metadata": {},
   "outputs": [],
   "source": [
    "funcao = lambda x: (x**5)+2*(x**3)-(5*x)-2"
   ]
  },
  {
   "cell_type": "code",
   "execution_count": 4,
   "metadata": {},
   "outputs": [
    {
     "data": {
      "image/png": "[encoded data removed]",
      "text/plain": [
       "<Figure size 432x288 with 1 Axes>"
      ]
     },
     "metadata": {
      "needs_background": "light"
     },
     "output_type": "display_data"
    }
   ],
   "source": [
    "x = np.linspace(-5, 5, 100)\n",
    "plt.plot(x, funcao(x))\n",
    "plt.grid()"
   ]
  },
  {
   "cell_type": "code",
   "execution_count": 5,
   "metadata": {},
   "outputs": [
    {
     "name": "stderr",
     "output_type": "stream",
     "text": [
      "C:\\Users\\Patrícia Nascimento\\Anaconda3\\lib\\site-packages\\ipykernel_launcher.py:18: RuntimeWarning: divide by zero encountered in double_scalars\n"
     ]
    },
    {
     "data": {
      "text/plain": [
       "(1.3197021484375,            a         b         x      Erro\n",
       " 0  -2.000000  2.000000  0.000000  1.000000\n",
       " 1   0.000000  2.000000  1.000000       inf\n",
       " 2   1.000000  2.000000  1.500000  1.000000\n",
       " 3   1.000000  1.500000  1.250000  0.333333\n",
       " 4   1.250000  1.500000  1.375000  0.200000\n",
       " 5   1.250000  1.375000  1.312500  0.090909\n",
       " 6   1.312500  1.375000  1.343750  0.047619\n",
       " 7   1.312500  1.343750  1.328125  0.023256\n",
       " 8   1.312500  1.328125  1.320312  0.011765\n",
       " 9   1.312500  1.320312  1.316406  0.005917\n",
       " 10  1.316406  1.320312  1.318359  0.002967\n",
       " 11  1.318359  1.320312  1.319336  0.001481\n",
       " 12  1.319336  1.320312  1.319824  0.000740\n",
       " 13  1.319336  1.319824  1.319580  0.000370\n",
       " 14  1.319580  1.319824  1.319702  0.000185)"
      ]
     },
     "execution_count": 5,
     "metadata": {},
     "output_type": "execute_result"
    }
   ],
   "source": [
    "bissecao(funcao, -2,2, 1e-4)"
   ]
  },
  {
   "cell_type": "markdown",
   "metadata": {},
   "source": [
    "<p>Com o método da <strong>Bisseção</strong> implementada, definimos a função que usariamos e dado pela variável \"funcao\". Logo depois plotamos um gráfico para auxiliar a visão sobre a função que estamos analisando, e por fim chamados a função \"bisseção(funcao, limite inferior, limite superior, tolerancia de erros)\" e conseguimos obter a raíz dessa função dada enrte -2 e 2 como sendo \"1.319702\" obtido na 15 iteração (15º iteração, desconsiderando o zero) com uma margem de erro de \"0.000185\", isso porque a nossa tolerancia de erros e até 0.0001 logo como a proxima iteração seria menor que isso o algoritmo encerrou-se nessa iteração.</p>\n",
    "<p>A partir desse exemplo, os exemplos posteriores seguem a mesma lógica com a tolerância de erro a 0.0001</p>"
   ]
  },
  {
   "cell_type": "markdown",
   "metadata": {},
   "source": [
    "<center>$f(x) = e^x - x - 2$</center>"
   ]
  },
  {
   "cell_type": "code",
   "execution_count": 6,
   "metadata": {},
   "outputs": [],
   "source": [
    "funcao = lambda x: np.exp(x) - x -2"
   ]
  },
  {
   "cell_type": "code",
   "execution_count": 7,
   "metadata": {},
   "outputs": [
    {
     "data": {
      "image/png": "[encoded data removed]",
      "text/plain": [
       "<Figure size 432x288 with 1 Axes>"
      ]
     },
     "metadata": {
      "needs_background": "light"
     },
     "output_type": "display_data"
    }
   ],
   "source": [
    "x = np.linspace(-5, 5, 100)\n",
    "plt.plot(x, funcao(x))\n",
    "plt.grid()"
   ]
  },
  {
   "cell_type": "code",
   "execution_count": 8,
   "metadata": {},
   "outputs": [
    {
     "data": {
      "text/plain": [
       "(1.14617919921875,            a         b         x      Erro\n",
       " 0   0.000000  2.000000  1.000000  1.000000\n",
       " 1   1.000000  2.000000  1.500000  1.000000\n",
       " 2   1.000000  1.500000  1.250000  0.333333\n",
       " 3   1.000000  1.250000  1.125000  0.200000\n",
       " 4   1.125000  1.250000  1.187500  0.111111\n",
       " 5   1.125000  1.187500  1.156250  0.052632\n",
       " 6   1.125000  1.156250  1.140625  0.027027\n",
       " 7   1.140625  1.156250  1.148438  0.013699\n",
       " 8   1.140625  1.148438  1.144531  0.006803\n",
       " 9   1.144531  1.148438  1.146484  0.003413\n",
       " 10  1.144531  1.146484  1.145508  0.001704\n",
       " 11  1.145508  1.146484  1.145996  0.000853\n",
       " 12  1.145996  1.146484  1.146240  0.000426\n",
       " 13  1.145996  1.146240  1.146118  0.000213\n",
       " 14  1.146118  1.146240  1.146179  0.000107)"
      ]
     },
     "execution_count": 8,
     "metadata": {},
     "output_type": "execute_result"
    }
   ],
   "source": [
    "bissecao(funcao, 0, 2, 1e-4)"
   ]
  },
  {
   "cell_type": "markdown",
   "metadata": {},
   "source": [
    "<center>$f(x) = 2 - e^x$ no intervalo [0,1].</center>"
   ]
  },
  {
   "cell_type": "code",
   "execution_count": 9,
   "metadata": {},
   "outputs": [],
   "source": [
    "funcao = lambda x: 2 - np.exp(x)"
   ]
  },
  {
   "cell_type": "code",
   "execution_count": 10,
   "metadata": {},
   "outputs": [
    {
     "data": {
      "image/png": "[encoded data removed]",
      "text/plain": [
       "<Figure size 432x288 with 1 Axes>"
      ]
     },
     "metadata": {
      "needs_background": "light"
     },
     "output_type": "display_data"
    }
   ],
   "source": [
    "x = np.linspace(-3,3, 100)\n",
    "plt.plot(x, funcao(x))\n",
    "plt.grid()"
   ]
  },
  {
   "cell_type": "code",
   "execution_count": 11,
   "metadata": {},
   "outputs": [
    {
     "data": {
      "text/plain": [
       "(0.6875,        a     b       x      Erro\n",
       " 0  0.000  1.00  0.5000  1.000000\n",
       " 1  0.500  1.00  0.7500  1.000000\n",
       " 2  0.500  0.75  0.6250  0.333333\n",
       " 3  0.625  0.75  0.6875  0.200000)"
      ]
     },
     "execution_count": 11,
     "metadata": {},
     "output_type": "execute_result"
    }
   ],
   "source": [
    "bissecao(funcao, 0, 1, 1e-1)"
   ]
  },
  {
   "cell_type": "markdown",
   "metadata": {},
   "source": [
    "<div class=\"alert alert-block alert-info\">\n",
    "<center>\n",
    "<strong>Questão 02:</strong> Determine as raízes reais de $f(x) = -0.5x^2 + 2.5x + 4.5$:\n",
    "</center>\n",
    "</div>"
   ]
  },
  {
   "cell_type": "markdown",
   "metadata": {},
   "source": [
    "<div class=\"alert alert-block alert-info\">\n",
    "<center>\n",
    "<strong>Letra A:</strong> Graficamente\n",
    "</center>\n",
    "</div>"
   ]
  },
  {
   "cell_type": "code",
   "execution_count": 12,
   "metadata": {},
   "outputs": [],
   "source": [
    "funcao = lambda x: (-0.5)*x**2 + (2.5)*x + 4.5"
   ]
  },
  {
   "cell_type": "code",
   "execution_count": 13,
   "metadata": {},
   "outputs": [
    {
     "data": {
      "image/png": "[encoded data removed]",
      "text/plain": [
       "<Figure size 432x288 with 1 Axes>"
      ]
     },
     "metadata": {
      "needs_background": "light"
     },
     "output_type": "display_data"
    }
   ],
   "source": [
    "x = np.linspace(-5, 10, 100)\n",
    "plt.plot(x, funcao(x))\n",
    "plt.grid()"
   ]
  },
  {
   "cell_type": "code",
   "execution_count": 14,
   "metadata": {},
   "outputs": [
    {
     "data": {
      "text/plain": [
       "(-1.4051513671875,            a         b         x      Erro\n",
       " 0  -2.000000  0.000000 -1.000000  1.000000\n",
       " 1  -2.000000 -1.000000 -1.500000  1.000000\n",
       " 2  -1.500000 -1.000000 -1.250000  0.333333\n",
       " 3  -1.500000 -1.250000 -1.375000  0.200000\n",
       " 4  -1.500000 -1.375000 -1.437500  0.090909\n",
       " 5  -1.437500 -1.375000 -1.406250  0.043478\n",
       " 6  -1.406250 -1.375000 -1.390625  0.022222\n",
       " 7  -1.406250 -1.390625 -1.398438  0.011236\n",
       " 8  -1.406250 -1.398438 -1.402344  0.005587\n",
       " 9  -1.406250 -1.402344 -1.404297  0.002786\n",
       " 10 -1.406250 -1.404297 -1.405273  0.001391\n",
       " 11 -1.405273 -1.404297 -1.404785  0.000695\n",
       " 12 -1.405273 -1.404785 -1.405029  0.000348\n",
       " 13 -1.405273 -1.405029 -1.405151  0.000174)"
      ]
     },
     "execution_count": 14,
     "metadata": {},
     "output_type": "execute_result"
    }
   ],
   "source": [
    "bissecao(funcao, -2, 0, 1e-4) #Já que temos duas raízes reais, então encontrei uma raíz de um valor e do outro."
   ]
  },
  {
   "cell_type": "code",
   "execution_count": 15,
   "metadata": {},
   "outputs": [
    {
     "data": {
      "text/plain": [
       "(6.40478515625,            a         b         x      Erro\n",
       " 0   6.000000  8.000000  7.000000  1.000000\n",
       " 1   6.000000  7.000000  6.500000  0.142857\n",
       " 2   6.000000  6.500000  6.250000  0.076923\n",
       " 3   6.250000  6.500000  6.375000  0.040000\n",
       " 4   6.375000  6.500000  6.437500  0.019608\n",
       " 5   6.375000  6.437500  6.406250  0.009709\n",
       " 6   6.375000  6.406250  6.390625  0.004878\n",
       " 7   6.390625  6.406250  6.398438  0.002445\n",
       " 8   6.398438  6.406250  6.402344  0.001221\n",
       " 9   6.402344  6.406250  6.404297  0.000610\n",
       " 10  6.404297  6.406250  6.405273  0.000305\n",
       " 11  6.404297  6.405273  6.404785  0.000152)"
      ]
     },
     "execution_count": 15,
     "metadata": {},
     "output_type": "execute_result"
    }
   ],
   "source": [
    "bissecao(funcao, 6, 8, 1e-4) #Já que temos duas raízes reais, então encontrei uma raíz de um valor e do outro."
   ]
  },
  {
   "cell_type": "markdown",
   "metadata": {},
   "source": [
    "<p>Esse é um modelo diferente dos visto, pois contamos com duas raízes reais. Então foi calculada usando a <strong>\"Bisseção\"</strong> a raiz entre os limite visíveis do intervalo -2 a 0 e outra usando o limite 6 e 8. Encontramos os valores (6.405124837953327, -1.405124837953327). </p>"
   ]
  },
  {
   "cell_type": "markdown",
   "metadata": {},
   "source": [
    "<div class=\"alert alert-block alert-info\">\n",
    "<center>\n",
    "<strong>Letra B: </strong> Usando a fórmula quadrática - Fórmula de Bhaskara\n",
    "</center>\n",
    "</div>"
   ]
  },
  {
   "cell_type": "code",
   "execution_count": 16,
   "metadata": {},
   "outputs": [],
   "source": [
    "a = -0.5\n",
    "b = +2.5\n",
    "c = +4.5"
   ]
  },
  {
   "cell_type": "code",
   "execution_count": 17,
   "metadata": {},
   "outputs": [
    {
     "data": {
      "text/plain": [
       "15.25"
      ]
     },
     "execution_count": 17,
     "metadata": {},
     "output_type": "execute_result"
    }
   ],
   "source": [
    "delta = (b)**2 - 4*a*c\n",
    "delta"
   ]
  },
  {
   "cell_type": "markdown",
   "metadata": {},
   "source": [
    "<p>A partir do calculo do delta, podemos obter as seguinte informações: </p>\n",
    "<p>01. $\\Delta$\t> 0 -> Duas raízes diferentes.</p>\n",
    "<p>01. $\\Delta$\t= 0 -> Uma única raíz.</p>\n",
    "<p>01. $\\Delta$\t< 0 -> Não tem uma raíz REAL.</p>\n",
    "    \n",
    "<p><strong>Pelos calculos acima temos o nosso $\\Delta$ = 15.25</strong>, logo temos raízes.</p>\n",
    "  "
   ]
  },
  {
   "cell_type": "code",
   "execution_count": 18,
   "metadata": {},
   "outputs": [],
   "source": [
    "raiz1 = ((-1)*b - delta**(0.5))/(2*a)\n",
    "raiz2 = ((-1)*b + delta**(0.5))/(2*a)"
   ]
  },
  {
   "cell_type": "code",
   "execution_count": 19,
   "metadata": {},
   "outputs": [
    {
     "data": {
      "text/plain": [
       "(6.405124837953327, -1.405124837953327)"
      ]
     },
     "execution_count": 19,
     "metadata": {},
     "output_type": "execute_result"
    }
   ],
   "source": [
    "raiz1, raiz2"
   ]
  },
  {
   "cell_type": "markdown",
   "metadata": {},
   "source": [
    "<p>Poderiamos obter as raízes reais da função também usando Bhaskara, como mostrado acima.</p>"
   ]
  },
  {
   "cell_type": "markdown",
   "metadata": {},
   "source": [
    "<div class=\"alert alert-block alert-info\">\n",
    "<center>\n",
    "<strong>Letra C: </strong> Usando três iterações do método da bisseção para determinar a maior raiz. Use as aproximações iniciais de $x_l = 5$ e $x_u = 10$. Calcule o erro relativo obtido entre cada itereação, e o erro entre os valores verdadeiros encontrados no item b e o valor de cada iteração.\n",
    "</center>\n",
    "</div>"
   ]
  },
  {
   "cell_type": "code",
   "execution_count": 20,
   "metadata": {},
   "outputs": [],
   "source": [
    "def bissecao_iterativo(funcao, a, b, interacoes): # Em comparação com o anterior só mudei o caso de parada para Iterativo\n",
    "    df = pd.DataFrame([],columns=['a','b','x','Erro'])\n",
    "    erro, x_ant = 1, a\n",
    "    i = 0\n",
    "    while(i < interacoes):\n",
    "        inf = np.sign(funcao(a))\n",
    "        sup = np.sign(funcao(b))\n",
    "        if ((inf*sup)!=-1):\n",
    "            return print(\"Não existe raíz no intervalo {} e {}\".format(a,b))\n",
    "        else:\n",
    "            x = (a+b)/2\n",
    "            df.loc[len(df)] = [a, b, x, erro]\n",
    "            if (funcao(x)==0):\n",
    "                return print(\"A raíz é {}\".format(x))\n",
    "            elif (inf*np.sign(funcao(x))==-1):\n",
    "                b = x\n",
    "            else:\n",
    "                a = x\n",
    "        erro = np.abs(x-x_ant)/np.abs(x) \n",
    "        x_ant = x\n",
    "        i += 1\n",
    "    return x, df"
   ]
  },
  {
   "cell_type": "code",
   "execution_count": 21,
   "metadata": {},
   "outputs": [
    {
     "data": {
      "text/plain": [
       "(6.875,       a     b      x      Erro\n",
       " 0  5.00  10.0  7.500  1.000000\n",
       " 1  5.00   7.5  6.250  0.333333\n",
       " 2  6.25   7.5  6.875  0.200000)"
      ]
     },
     "execution_count": 21,
     "metadata": {},
     "output_type": "execute_result"
    }
   ],
   "source": [
    "bissecao_iterativo(funcao, 5, 10, 3)"
   ]
  },
  {
   "cell_type": "markdown",
   "metadata": {},
   "source": [
    "<p>Outra forma de encontrarmos a maior raiz dessa função (6.405124837953327) foi mostrado a cima, mas diferente das formas anteiores pela a iteração de apenas 3 tentativas ficamos o valor de (6.875) um pouco distante do que poderiamos obter, caso tivessemos mais tentativas.</p>"
   ]
  },
  {
   "cell_type": "markdown",
   "metadata": {},
   "source": [
    "<div class=\"alert alert-block alert-info\">\n",
    "<center>\n",
    "<strong>Questão 03: </strong> Localize a primeira raiz não-trivial de $sin(x)= x^3$, onde x está em <strong>radianos</strong>. Use uma técnica gráfica e a bisseção com o intervalo inicial de 0.5 a 1. Faça os cálculos até que o erro seja inferior a 2%.\n",
    "</center>\n",
    "</div>"
   ]
  },
  {
   "cell_type": "code",
   "execution_count": 22,
   "metadata": {},
   "outputs": [],
   "source": [
    "funcao = lambda x: np.sin(x) - x ** 3"
   ]
  },
  {
   "cell_type": "code",
   "execution_count": 23,
   "metadata": {},
   "outputs": [
    {
     "data": {
      "image/png": "[encoded data removed]",
      "text/plain": [
       "<Figure size 432x288 with 1 Axes>"
      ]
     },
     "metadata": {
      "needs_background": "light"
     },
     "output_type": "display_data"
    }
   ],
   "source": [
    "x = np.linspace(-5, 5, 100)\n",
    "plt.plot(x, funcao(x))\n",
    "plt.grid()"
   ]
  },
  {
   "cell_type": "code",
   "execution_count": 24,
   "metadata": {},
   "outputs": [
    {
     "data": {
      "text/plain": [
       "(0.921875,          a       b         x      Erro\n",
       " 0  0.50000  1.0000  0.750000  1.000000\n",
       " 1  0.75000  1.0000  0.875000  0.333333\n",
       " 2  0.87500  1.0000  0.937500  0.142857\n",
       " 3  0.87500  0.9375  0.906250  0.066667\n",
       " 4  0.90625  0.9375  0.921875  0.034483)"
      ]
     },
     "execution_count": 24,
     "metadata": {},
     "output_type": "execute_result"
    }
   ],
   "source": [
    "bissecao(funcao, 0.5, 1, 0.02)"
   ]
  },
  {
   "cell_type": "markdown",
   "metadata": {},
   "source": [
    "<p>Encontramos a raíz usando como tolerância 2% (correspondente a  0.02) o que mais se difere nas questões anteriores. E obtivemos o valor da raíz como 0.921875 na (5º iteração) com o Erro de 0.034483.</p>"
   ]
  },
  {
   "cell_type": "markdown",
   "metadata": {},
   "source": [
    "<div class=\"alert alert-block alert-info\">\n",
    "<center>\n",
    "<strong>Questão 04: </strong> Dada $f(x)=-2x^6-1.5x^4+10x+20$, encontre o máximo dessa função $(f'(x)=0)$ usando o método da bisseção, considerando o intervalo [0,1] e um erro limite de 5%.\n",
    "</center>\n",
    "</div>"
   ]
  },
  {
   "cell_type": "code",
   "execution_count": 25,
   "metadata": {},
   "outputs": [],
   "source": [
    "funcao = lambda x: (-2+x**6) + (-1.5*x**4) + (10*x) + (20)"
   ]
  },
  {
   "cell_type": "code",
   "execution_count": 26,
   "metadata": {},
   "outputs": [
    {
     "data": {
      "image/png": "[encoded data removed]",
      "text/plain": [
       "<Figure size 432x288 with 1 Axes>"
      ]
     },
     "metadata": {
      "needs_background": "light"
     },
     "output_type": "display_data"
    }
   ],
   "source": [
    "x = np.linspace(-5, 5, 100)\n",
    "plt.plot(x, funcao(x))\n",
    "plt.grid()"
   ]
  },
  {
   "cell_type": "code",
   "execution_count": 27,
   "metadata": {},
   "outputs": [],
   "source": [
    "funcao_derivada = lambda x: (-12*x**5) + (-6*x**3) + 10"
   ]
  },
  {
   "cell_type": "code",
   "execution_count": 32,
   "metadata": {},
   "outputs": [
    {
     "data": {
      "image/png": "[encoded data removed]",
      "text/plain": [
       "<Figure size 432x288 with 1 Axes>"
      ]
     },
     "metadata": {
      "needs_background": "light"
     },
     "output_type": "display_data"
    }
   ],
   "source": [
    "x = np.linspace(-5, 5, 100)\n",
    "plt.plot(x, funcao_derivada(x))\n",
    "plt.grid()"
   ]
  },
  {
   "cell_type": "code",
   "execution_count": 28,
   "metadata": {},
   "outputs": [
    {
     "data": {
      "text/plain": [
       "(0.84375,         a      b        x      Erro\n",
       " 0  0.0000  1.000  0.50000  1.000000\n",
       " 1  0.5000  1.000  0.75000  1.000000\n",
       " 2  0.7500  1.000  0.87500  0.333333\n",
       " 3  0.7500  0.875  0.81250  0.142857\n",
       " 4  0.8125  0.875  0.84375  0.076923)"
      ]
     },
     "execution_count": 28,
     "metadata": {},
     "output_type": "execute_result"
    }
   ],
   "source": [
    "bissecao(funcao_derivada, 0, 1, 0.05)"
   ]
  },
  {
   "cell_type": "markdown",
   "metadata": {},
   "source": [
    "<p>A fins de comparação, plotamos o gráfico de função \"original\" e seguida com o gráfico da função derivada para observar as diferenças entre essas duas funções. Logo depois aplicamos o método da <strong>Bisseção</strong> na função derivada com a tolerância de erro 5% (correspondente a 0.05) e obtemos o valor da raiz como 0.84375 com o Erro de 0.076923.</p>"
   ]
  },
  {
   "cell_type": "markdown",
   "metadata": {},
   "source": [
    "<div class=\"alert alert-block alert-info\">\n",
    "<center>\n",
    "<strong>Questão 05: </strong> Implemente o métodos da <strong>Falsa Posição/ Regula Falsi/ Interpolação Linear</strong>, teste-o com exemplos do texto, comparando com o método da bisseção. Mostre que ess método, para vários casos, é mais eficiente que o da bisseção.\n",
    "</center>\n",
    "</div>"
   ]
  },
  {
   "cell_type": "code",
   "execution_count": 29,
   "metadata": {},
   "outputs": [],
   "source": [
    "def f(x):\n",
    "    return (x ** 5 + 2 * x ** 3 - 5 * x - 2)"
   ]
  },
  {
   "cell_type": "code",
   "execution_count": 33,
   "metadata": {},
   "outputs": [],
   "source": [
    "def metodoFalsaPosicao(f, a, b, ERRO=1e-10): # Valor default de ERRO\n",
    "    df = pd.DataFrame([],columns=['a','b','x','Erro'])\n",
    "    erro, x_ant = 1, a\n",
    "    while(erro>ERRO):\n",
    "        inf = np.sign(f(a))\n",
    "        sup = np.sign(f(b))\n",
    "        if ((inf*sup)!=-1):\n",
    "            return print(\"Não existe raíz no intervalo {} e {}\".format(a,b))\n",
    "        else:\n",
    "            x = a - (f(a) * (b - a) / (f(b) - f(a)))\n",
    "            df.loc[len(df)] = [a, b, x, erro]\n",
    "            if (f(x)==0):\n",
    "                return print(\"A raíz é {}\".format(x))\n",
    "            elif (inf*np.sign(f(x))==-1):\n",
    "                b = x\n",
    "            else:\n",
    "                a = x\n",
    "        erro = np.abs(x-x_ant)/np.abs(x) \n",
    "        x_ant = x\n",
    "    return x, df"
   ]
  },
  {
   "cell_type": "code",
   "execution_count": 34,
   "metadata": {},
   "outputs": [
    {
     "name": "stdout",
     "output_type": "stream",
     "text": [
      "Não existe raíz no intervalo -2 e 0\n"
     ]
    }
   ],
   "source": [
    "metodoFalsaPosicao(f, -2, 0, 0.001)"
   ]
  },
  {
   "cell_type": "markdown",
   "metadata": {},
   "source": [
    "<p>Após maiores pesquisas sobre o <strong>método da Falsa Posição</strong>, ficou claro que a maior diferença ficava mo calculo do \"x\". </p>\n",
    "<p>Na bisseção dada por:$x = (a+b)/2$<br><br>E na Falsa Posição dada por: $ x = a - (f(a) * (b - a) / (f(b) - f(a)))$<br></p>\n",
    "<p>Assim, fazendo essa alteração (a maior alteração), conseguimmos obter o valor da raíz por outros métodos.</p>"
   ]
  }
 ],
 "metadata": {
  "kernelspec": {
   "display_name": "Python 3",
   "language": "python",
   "name": "python3"
  },
  "language_info": {
   "codemirror_mode": {
    "name": "ipython",
    "version": 3
   },
   "file_extension": ".py",
   "mimetype": "text/x-python",
   "name": "python",
   "nbconvert_exporter": "python",
   "pygments_lexer": "ipython3",
   "version": "3.7.3"
  }
 },
 "nbformat": 4,
 "nbformat_minor": 2
}
